{
 "cells": [
  {
   "cell_type": "markdown",
   "metadata": {},
   "source": [
    "# Tasks 2020\n",
    "\n",
    "Machine Learning and Statistics Tasks Assessment 2020.\n",
    "\n",
    "Jody Bradley (G00387878@gmit.ie)\n"
   ]
  },
  {
   "cell_type": "markdown",
   "metadata": {},
   "source": [
    "#### Task 1. Write a Python function called sqrt2 that calculates and prints to the screen the square root of 2 to 100 decimal places. Your code should not depend on any module from the standard library or otherwise. You should research the task first and include references and a description of your algorithm.\n",
    "\n",
    "Many mathermatical operations have an opposite operaton. Finding the square root of a number is the inverse of squaring a number. The square of a number is that number times itself, while the square root of a number x is the number that gives x when multiplied by itself, i.e. the square root of 100 is 10, becase 10 * 10 = 100 [1].\n",
    "\n",
    "There are several ways to calculate the square root of a number. Let's take a look at a simple way of calculating a square root of a number without the use of a calculator. Let's look at finding the square root of 2.\n",
    "\n",
    "1. Estimate - get a starting point by finding two perfect square roots that your number is between. As we're looking to find the square root of 2, our two perfect square roots are 1 and 4.\n",
    "\n",
    "2. Divide - next we need to divide our number by one of those square roots: 2 / 1 = 2\n",
    "\n",
    "3. Average - take the average of the result of step 2 (2) and the root (1): 2 + 1 = 3 / 2 = 1.5\n",
    "\n",
    "4. Repeat steps 2 and 3: 2 / 1.5 = 1.33 + 1.5 = 2.83 / 2 = 1.41\n",
    "\n",
    "So based on the above, the square root of  = 1.41, which is correct to 2 decimal places.\n",
    "\n",
    "To get a more accurate result, we can calculate the square root of a number by using Newton's method.\n",
    "\n",
    "To find the square root $z$ of a number $x$, we can iterate using the following \n",
    "equation.\n",
    "\n",
    "$$ z_{next} = z - \\frac{z^2 - x}{2z} $$\n",
    "\n",
    "Computers typically compute the square root of x using a loop. Starting with some guess $z$, we adjust $z$ based on how close $z^2$ is to $x$, producing a better guess. Repeating this adjustment makes the guess better and better until we reach an answer that is as close to the actual square root as can be [2].\n",
    "\n",
    "\n",
    "\n",
    "\n",
    "\n",
    "#### References\n",
    "[1] Square Roots; http://www.math.com/school/subject1/lessons/S1U1L9DP.html \n",
    "\n",
    "[2] A Tour of Go; Exercise: Loops and Functions; https://tour.golang.org/flowcontrol/8 \n",
    "\n",
    "[3] https://stackoverflow.com/questions/6149006/display-a-float-with-two-decimal-places-in-python\n"
   ]
  },
  {
   "cell_type": "code",
   "execution_count": 4,
   "metadata": {},
   "outputs": [
    {
     "ename": "NameError",
     "evalue": "name 'z' is not defined",
     "output_type": "error",
     "traceback": [
      "\u001b[1;31m---------------------------------------------------------------------------\u001b[0m",
      "\u001b[1;31mNameError\u001b[0m                                 Traceback (most recent call last)",
      "\u001b[1;32m<ipython-input-4-960f3ba32512>\u001b[0m in \u001b[0;36m<module>\u001b[1;34m\u001b[0m\n\u001b[1;32m----> 1\u001b[1;33m \u001b[0mz\u001b[0m \u001b[1;33m-=\u001b[0m \u001b[1;33m(\u001b[0m\u001b[0mz\u001b[0m\u001b[1;33m*\u001b[0m\u001b[0mz\u001b[0m \u001b[1;33m-\u001b[0m \u001b[0mx\u001b[0m\u001b[1;33m)\u001b[0m \u001b[1;33m/\u001b[0m \u001b[1;33m(\u001b[0m\u001b[1;36m2\u001b[0m\u001b[1;33m*\u001b[0m\u001b[0mz\u001b[0m\u001b[1;33m)\u001b[0m\u001b[1;33m\u001b[0m\u001b[1;33m\u001b[0m\u001b[0m\n\u001b[0m",
      "\u001b[1;31mNameError\u001b[0m: name 'z' is not defined"
     ]
    }
   ],
   "source": [
    "z -= (z*z - x) / (2*z)"
   ]
  },
  {
   "cell_type": "code",
   "execution_count": 4,
   "metadata": {
    "scrolled": true
   },
   "outputs": [
    {
     "name": "stdout",
     "output_type": "stream",
     "text": [
      "1.4142135623746898698271934335934929549694061279296875000000000000000000000000000000000000000000000000\n"
     ]
    }
   ],
   "source": [
    "def sqrt(x):\n",
    "    \"\"\"\n",
    "    A function to calculate the square root of a number x:\n",
    "    \"\"\"\n",
    "    # Initial guess for the square root z:\n",
    "    z = x / 2.0\n",
    "    # Loop until we're happy with the accuracy.\n",
    "    while abs(x - (z * z)) > 0.000001:\n",
    "        # Calculate a better guess for the square root.\n",
    "        z -= (z*z - x) / (2.0 * z)\n",
    "    # Return the approximate square root of x.\n",
    "    return z\n",
    "# Show the square root of 2\n",
    "r = sqrt(2.0)\n",
    "print(f'{r:.100f}')"
   ]
  },
  {
   "cell_type": "code",
   "execution_count": null,
   "metadata": {},
   "outputs": [],
   "source": []
  }
 ],
 "metadata": {
  "kernelspec": {
   "display_name": "Python 3",
   "language": "python",
   "name": "python3"
  },
  "language_info": {
   "codemirror_mode": {
    "name": "ipython",
    "version": 3
   },
   "file_extension": ".py",
   "mimetype": "text/x-python",
   "name": "python",
   "nbconvert_exporter": "python",
   "pygments_lexer": "ipython3",
   "version": "3.8.3"
  }
 },
 "nbformat": 4,
 "nbformat_minor": 4
}
