{
 "cells": [
  {
   "cell_type": "markdown",
   "metadata": {},
   "source": [
    "# Tasks 2020\n",
    "\n",
    "Machine Learning and Statistics Tasks Assessment 2020.\n",
    "\n",
    "Jody Bradley (G00387878@gmit.ie)\n"
   ]
  },
  {
   "cell_type": "markdown",
   "metadata": {},
   "source": [
    "#### Task 1. Write a Python function called sqrt2 that calculates and prints to the screen the square root of 2 to 100 decimal places. Your code should not depend on any module from the standard library or otherwise. You should research the task first and include references and a description of your algorithm.\n",
    "\n",
    "Many mathermatical operations have an opposite operaton. Finding the square root of a number is the inverse of squaring a number. The square of a number is that number times itself, while the square root of a number x is the number that gives x when multiplied by itself, i.e. the square root of 100 is 10, becase 10 * 10 = 100 [1].\n",
    "\n",
    "There are several ways to calculate the square root of a number. Let's take a look at a simple way of calculating a square root of a number without the use of a calculator. Let's look at finding the square root of 2.\n",
    "\n",
    "1. Estimate - get a starting point by finding two perfect square roots that your number is between. As we're looking to find the square root of 2, our two perfect square roots are 1 and 4.\n",
    "\n",
    "2. Divide - next we need to divide our number by one of those square roots: 2 / 1 = 2\n",
    "\n",
    "3. Average - take the average of the result of step 2 (2) and the root (1): 2 + 1 = 3 / 2 = 1.5\n",
    "\n",
    "4. Repeat steps 2 and 3: 2 / 1.5 = 1.33 + 1.5 = 2.83 / 2 = 1.41\n",
    "\n",
    "So based on the above, the square root of  = 1.41, which is correct to 2 decimal places.\n",
    "\n",
    "To get a more accurate result, we can calculate the square root of a number by using Newton's method. Newton's method is a root-finding algorithm whcih produces successively better approximations to the roots (or zeroes) of a real-valued function [2].\n",
    "\n",
    "To find the square root $z$ of a number $x$, we can iterate using the following equation.\n",
    "\n",
    "$$ z_{next} = z - \\frac{z^2 - x}{2z} $$\n",
    "\n",
    "Computers typically compute the square root of x using a loop. Starting with some guess $z$, we adjust $z$ based on how close $z^2$ is to $x$, producing a better guess. Repeating this adjustment makes the guess better and better until we reach an answer that is as close to the actual square root as can be [3].\n",
    "\n",
    "\n",
    "\n",
    "\n",
    "\n",
    "#### References\n",
    "[1] Square Roots; http://www.math.com/school/subject1/lessons/S1U1L9DP.html \n",
    "\n",
    "[2] Newton's Method; https://en.wikipedia.org/wiki/Newton%27s_method \n",
    "\n",
    "[3] A Tour of Go; Exercise: Loops and Functions; https://tour.golang.org/flowcontrol/8\n",
    "\n",
    "[4] McLoughlin, I 2020, Tasks - Getting Started, lecture notes, Machine Learning, GMIT, delivered 04/10/2020\n",
    "\n",
    "[4] https://stackoverflow.com/questions/6149006/display-a-float-with-two-decimal-places-in-python\n"
   ]
  },
  {
   "cell_type": "markdown",
   "metadata": {},
   "source": [
    "#### Method\n",
    "Writing a function to find the square root of a number $x$."
   ]
  },
  {
   "cell_type": "code",
   "execution_count": 1,
   "metadata": {
    "scrolled": true
   },
   "outputs": [],
   "source": [
    "def sqrt(x):\n",
    "    \"\"\"\n",
    "    A function to calculate the square root of a number x:\n",
    "    \"\"\"\n",
    "    # Initial guess for the square root z:\n",
    "    z = x / 2\n",
    "    # Loop until we're happy with the accuracy using the abs method to ensure that only a positive number is used.\n",
    "    while abs(x - (z * z)) > 0.000001:\n",
    "        # Calculate a better guess for the square root.\n",
    "        z -= (z*z - x) / (2 * z)\n",
    "    # Return the approximate square root of x.\n",
    "    return z\n",
    "# Show the square root of 2"
   ]
  },
  {
   "cell_type": "code",
   "execution_count": 2,
   "metadata": {},
   "outputs": [
    {
     "name": "stdout",
     "output_type": "stream",
     "text": [
      "1.4142135623746898698271934335934929549694061279296875000000000000000000000000000000000000000000000000\n"
     ]
    }
   ],
   "source": [
    "# Show the square root of 2\n",
    "r = sqrt(2)\n",
    "print(f'{r:.100f}')"
   ]
  },
  {
   "cell_type": "markdown",
   "metadata": {},
   "source": [
    "#### Tests of the function\n",
    "\n",
    "Here we test the function with some known values."
   ]
  },
  {
   "cell_type": "code",
   "execution_count": 3,
   "metadata": {},
   "outputs": [
    {
     "data": {
      "text/plain": [
       "10.000000000107446"
      ]
     },
     "execution_count": 3,
     "metadata": {},
     "output_type": "execute_result"
    }
   ],
   "source": [
    "# Test the function on a perfect number (100, as we know that the square root of 100 is 10).\n",
    "sqrt(100)"
   ]
  },
  {
   "cell_type": "code",
   "execution_count": 4,
   "metadata": {},
   "outputs": [
    {
     "data": {
      "text/plain": [
       "1.4142135623746899"
      ]
     },
     "execution_count": 4,
     "metadata": {},
     "output_type": "execute_result"
    }
   ],
   "source": [
    "# Test the function on 2.\n",
    "sqrt(2)"
   ]
  },
  {
   "cell_type": "code",
   "execution_count": 5,
   "metadata": {},
   "outputs": [
    {
     "data": {
      "text/plain": [
       "1.4142135623730951"
      ]
     },
     "execution_count": 5,
     "metadata": {},
     "output_type": "execute_result"
    }
   ],
   "source": [
    "# Comparing the above result with the math.sqrt function\n",
    "import math\n",
    "math.sqrt(2)"
   ]
  },
  {
   "cell_type": "markdown",
   "metadata": {},
   "source": [
    "#### Finding the square root to 100 decimal places\n",
    "Our function above finds the square root of a number $x$ to 15 decimal places. Next we'll try to find the square root of a number to 100 decimal places, using the formula which we came up with previously."
   ]
  },
  {
   "cell_type": "code",
   "execution_count": 6,
   "metadata": {},
   "outputs": [],
   "source": [
    "def sqrt(x):\n",
    "    \"\"\"\n",
    "    A function to calculate the square root of a number x:\n",
    "    \"\"\"\n",
    "    # Initial guess for the square root z:\n",
    "    z = x / 2\n",
    "    # Loop until we're happy with the accuracy.\n",
    "    while abs(x - (z * z)) > 0.000001:\n",
    "        # Calculate a better guess for the square root.\n",
    "        z -= (z*z - x) / (2* z)\n",
    "    # Return the approximate square root of x.\n",
    "    return (f'{r:.100f}')\n"
   ]
  },
  {
   "cell_type": "code",
   "execution_count": 7,
   "metadata": {},
   "outputs": [
    {
     "data": {
      "text/plain": [
       "'1.4142135623746898698271934335934929549694061279296875000000000000000000000000000000000000000000000000'"
      ]
     },
     "execution_count": 7,
     "metadata": {},
     "output_type": "execute_result"
    }
   ],
   "source": [
    "sqrt(2)"
   ]
  },
  {
   "cell_type": "markdown",
   "metadata": {},
   "source": [
    "---------------------------------------------------------------"
   ]
  },
  {
   "cell_type": "markdown",
   "metadata": {},
   "source": [
    "#### Task 2. The Chi-squared test for independence is a statistical hypothesis test like a t-test. It is used to analyse whether two categorical variabales as independent. The Wikipedia article gives the table below as an example [1], stating the Chi-squared value based on it is approximately 24.6. Use scipy.stats to verify this value and calculate the associated p value. You should include a short note with references justifying your analysis in a markdown cell."
   ]
  },
  {
   "cell_type": "markdown",
   "metadata": {},
   "source": [
    "The Chi-squared test is used for testing relationships between categorical variables. The null hypothesis of the Chi-squared test is that no relationship exists between the categorical variables, i.e. they are independent [2].\n",
    "\n",
    "The table below has been taken from the example on the Wikipedia article [1] and is representative of a city of 1,000,000 residents with four neighborhoods: A, B, C and D. A random sample of 650 residents is taken and their occupation is recorded as \"white collar\", \"blue collar\" or \"no collar\". The null hypothesis is that each person's neighborhood of residence is independent of the person's occupational classification. The data is tabulated as:\n",
    "\n",
    "|  | A | B | C | D | Total |\n",
    "| --- | --- | --- | --- | --- | --- |\n",
    "| White Collar | 90 | 60 | 104 | 95 | 349 |\n",
    "| Blue Collar | 30 | 50 | 51 | 20 | 15 |\n",
    "| No Collar | 30 | 40 | 45 | 35 | 150 |\n",
    "| Total | 150 | 150 | 200 | 150 | 650 |\n",
    "\n",
    "The Wikipedia article outlines the following example:\n",
    "\n",
    "_\"Let us take the sample living in neighbourhood A, 150, to estimate what proportion of the whole 1,000,000 live in neighbourhood A. Similarly, we take $\\frac{349}{650}$ to estimate what proportion of the 1,000,000 are white-collar workers. By the assumption of independence under the hypothesis we should \"expect\" the number of white-collar workers in neighborhood A to be:_\n",
    "\n",
    "$$ 150  *  \\frac{349}{650} = 80.54 $$\n",
    "\n",
    "_Then in that \"cell\" of the table, we have:_\n",
    "\n",
    "$$ \\frac{(observed - expected)^2}{expected} = \\frac{(90-80.54)^2}{80.54} = 1.11 $$\n",
    "\n",
    "_The sum of these quantities over all of the cells is the test statistic; in this case c. 24.6. Under the null hypothesis, this sum has approximately a chi-squared distribution whose number of degrees of freedom are:_\n",
    "\n",
    "$$ (number.of.rows- 1) (number.of.columns -1) = (3-1)(4-1)=6 $$\n",
    "\n",
    "_If the test statistic is improbably large according to that chi-squared distribution, then one rejects the null hypothesis of independence.\"[1]_\n",
    "\n",
    "So based on the above Wikipedia example, our Chi-squared number for our sample is 24.6.\n",
    "\n",
    "#### Hypothesis\n",
    "\n",
    "The two hypotheses are:\n",
    "* Neighbourhood and occupation are independent.\n",
    "* Neighbourhood and occupation are not independent.\n",
    "\n",
    "#### Method\n",
    "\n",
    "##### To find the Chi Square [5]\n",
    "1. Lay the data out in a table.\n",
    "2. Add up rows and columns.\n",
    "3. Calculate expected value for each entry.\n",
    "4. Subtract expected from observed, square it, then divide by expected, for each cell (as per the Wikipedia article extract above).\n",
    "5. Add up the calculated values from each cell to find the Chi-square (in this case, we know that the the sum of these quantities over all of the cells is c. 24.6).\n",
    "\n",
    "##### To find the Degree of Freedom\n",
    "$$ (number.of.rows- 1) (number.of.columns -1) $$\n",
    "In this case we know that the Degrees of Freedom = 6\n",
    "\n",
    "##### To find the p-value\n",
    "This is a complicated calculation. However, we can find the p-value using scipy.stats in Python, as outlined below.\n"
   ]
  },
  {
   "cell_type": "code",
   "execution_count": 8,
   "metadata": {},
   "outputs": [
    {
     "name": "stdout",
     "output_type": "stream",
     "text": [
      "===Chi2 Stat===\n",
      "24.5712028585826\n",
      "\n",
      "\n",
      "===Degrees of Freedom===\n",
      "6\n",
      "\n",
      "\n",
      "===P-Value===\n",
      "0.0004098425861096696\n",
      "\n",
      "\n",
      "===Contingency Table===\n",
      "[[ 80.53846154  80.53846154 107.38461538  80.53846154]\n",
      " [ 34.84615385  34.84615385  46.46153846  34.84615385]\n",
      " [ 34.61538462  34.61538462  46.15384615  34.61538462]]\n"
     ]
    }
   ],
   "source": [
    "# Now we will run a test using Python to verify the Chi-square number and to find the p-value.\n",
    "\n",
    "import numpy as np\n",
    "\n",
    "# Set out our data table\n",
    "wc = [90, 60, 104, 95]\n",
    "bc = [30, 50, 51, 20]\n",
    "nc = [30, 40, 45, 35]\n",
    "\n",
    "pop = np.array([wc, bc, nc])\n",
    "\n",
    "# Run the test using the SciPy Stats library [3]\n",
    "from scipy import stats\n",
    "\n",
    "chi2_stat, p_val, dof, ex = stats.chi2_contingency(pop)\n",
    "print(\"===Chi2 Stat===\")\n",
    "print(chi2_stat)\n",
    "print(\"\\n\")\n",
    "print(\"===Degrees of Freedom===\")\n",
    "print(dof)\n",
    "print(\"\\n\")\n",
    "print(\"===P-Value===\")\n",
    "print(p_val)\n",
    "print(\"\\n\")\n",
    "print(\"===Contingency Table===\")\n",
    "print(ex)\n"
   ]
  },
  {
   "cell_type": "markdown",
   "metadata": {},
   "source": [
    "The above output shows the following:\n",
    "* The first value shows the chi-square statistic as 24.57. This is rounded up to 24.6 which is in line with the chi-square number given in the Wikipedia article.\n",
    "* The second value shows the Degree of Freedom as 6. This is in line with our calculation above.\n",
    "* The third value is the p-value of 0.0004. This is used to determine the independence.\n",
    "\n",
    "A p-value is a measure of the probability that an observed difference could have occurred by random chance. A lower p-value means a greater statistical significance of the observed difference [4]. Generally, we are looking for a threshold at either 0.05 or 0.01 [3]. In this case, as the p-value is very low (at 0.0004), we can reject the null hypothesis and conclude that our test is significant and that the job category of the population  is linked to their neighbourhood.\n",
    "\n",
    "#### References\n",
    "[1] Wikipedia contributors, “Chi-squared test — Wikipedia, the free encyclopedia,”\n",
    "2020, [Online; accessed 10-November-2020]. [Online]. Available: https://en.wikipedia.org/w/index.php?title=Chi-squared_test&oldid=983024096\n",
    "\n",
    "[2] Using Chi-Square Statistic in Research - https://www.statisticssolutions.com/using-chi-square-statistic-in-research/\n",
    "\n",
    "[3] Running Chi-Square Tests with Die Roll Data in Python - https://towardsdatascience.com/running-chi-square-tests-in-python-with-die-roll-data-b9903817c51b\n",
    "\n",
    "[4] P-Value definition - https://www.investopedia.com/terms/p/p-value.asp\n",
    "\n",
    "[5] Chi-square test - https://www.mathsisfun.com/data/chi-square-test.html\n",
    "\n",
    "--------------------------------"
   ]
  },
  {
   "cell_type": "markdown",
   "metadata": {},
   "source": [
    "#### Task 3. The standard deviation of an array of numbers x is calculated using numpy as np.sqrt(np.sum((x - np.mean(x))**2)/len(x)).\n",
    "\n",
    "#### However, Microsoft Excel has two different versions of the standard deviation calculation, STDEV.P and STDEV.S . The STDEV.P function performs the above calculation but in the STDEV.S calculation the division is by len(x)-1 rather than len(x). \n",
    "\n",
    "#### Research these Excel functions, writing a note in a Markdown cell about the difference between them. Then use numpy to perform a simulation demonstrating that the STDEV.S calculation is a better estimate for the standard deviation of a population when performed on a sample. Note that part of this task is to figure out the terminology in the previous sentence."
   ]
  },
  {
   "cell_type": "markdown",
   "metadata": {},
   "source": [
    "The standard deviation is a measure of the amount of variation or dispersion of a set of values. A low standard deviation indicates that the values are close to the mean of the set, while a high standard deviation indicates that the values are spread out over a wider range [1]. To put it simply, the standard deviation is a measure of \"how spread out the numbers are\" [2].\n",
    "\n",
    "#### Method\n",
    "To calculate the standard deviation of a set of values manually we can:\n",
    "1. Work out the mean of the data set.\n",
    "2. For each number in the data set, subtract the mean and square the result.\n",
    "3. Add up all of the values from the previous step and find the mean of those values.\n",
    "4. Take the square root of that.\n",
    "\n",
    "To use a simple example as outlined on the \"Maths is Fun\" website [2]:\n",
    "\n",
    "_A sample of rose bushes contains 20 values. The number of flowers on each bush is 9, 2, 5, 4, 12, 7, 8, 11, 9, 3, 7, 4, 12, 5, 4, 10, 9 ,6, 9, 4. Work out the Standard Deviation_\n",
    "\n",
    "Using the method as outlined above:\n",
    "1. The mean of the data set is:\n",
    "$ \\frac{sum.of.the.values}{number.of.values} = \\frac{140}{20} = 7$\n",
    "\n",
    "\n",
    "2. For each number in the data set, subtract the mean and square the result, which gives us:\n",
    "4, 25, 4, 9, 25, 0, 1, 16, 4, 16, 0, 9, 25, 4, 9, 9, 4, 1, 4, 9\n",
    "\n",
    "\n",
    "3. Add up all of the values from the previous step and find the mean of those values, which gives us:\n",
    "$\\frac{178}{20} = 8.9$\n",
    "\n",
    "\n",
    "4. Take the square root of that:\n",
    "= 2.9832867780352595529116...\n",
    "\n",
    "#### Python \n",
    "\n",
    "The standard deviation of an array of numbers x is calculated using numpy as np.sqrt(np.sum((x - np.mean(x))**2)/len(x)).\n",
    "\n",
    "#### Excel\n",
    "\n",
    "Excel has has two different versions of the standard deviation calculation, STDEV.P and STDEV.S.\n",
    "\n",
    "The STDEV.P function is used when the data set represents the entire population (the \"P\" stands for population).  \n",
    "\n",
    "The STDEV.S function is used when the data set is a sample of the entire population (the \"S\" stands for sample).\n",
    "\n",
    "In the STDEV.P function, the squared deviation is divided by the total number of arguments, mostly represented as N. Therefore STDEV.P uses the same formula as the numpy formula, i.e. np.sqrt(np.sum((x - np.mean(x))**2)/len(x)).\n",
    "\n",
    "In STDEV.S, the squared deviation is divided by the total number of sample -1. It is represented as N-1 [3]. STDEV.S uses a similar forumula as the numpy formula but the division is by len(x)-1 rather than len(x), i.e. np.sqrt(np.sum((x - np.mean(x))**2)/len(x) -1).\n",
    "\n",
    "#### Bessel's correction\n",
    "\n",
    "In statistics, Bessel's correction is the use of n-1 (as seen in the STDEV.S formula above), instead of n (where n is the number of observations in a sample), in order to correct the bias in the estimation of the population standard deviation [5]. \n",
    "\n",
    "#### Hypothesis\n",
    "The STDEV.S calculation is a better estimate for the standard deviation of a population when performed on a sample than using the STDEV.P calculation.\n",
    "\n",
    "#### Interpreation \n",
    "We are being asked to show that the STDEV.S calculation in excel is a better estimate for the standard deviation of a data set when performed on a sample of observations from that data set, than using the STDEV.P calculation."
   ]
  },
  {
   "cell_type": "markdown",
   "metadata": {},
   "source": [
    "#### Test\n",
    "\n",
    "Let's run the data set through the standard deviation functions in Excel using the STDEV.P and STDEV.S functions.\n",
    "\n",
    "The results are as follows:\n",
    "\n",
    "- STDEV.P = 2.983287\n",
    "- STDEV.s = 3.060788"
   ]
  },
  {
   "cell_type": "code",
   "execution_count": 9,
   "metadata": {},
   "outputs": [
    {
     "name": "stdout",
     "output_type": "stream",
     "text": [
      "The standard deviation is 2.9832867780352594\n"
     ]
    }
   ],
   "source": [
    "# Let's run a Python function (np.std) to find the standard deviation of the rose bush data set used above.\n",
    "\n",
    "import numpy as np\n",
    "\n",
    "arr = [9, 2, 5, 4, 12, 7, 8, 11, 9, 3, 7, 4, 12, 5, 4, 10, 9 ,6, 9, 4]\n",
    "std = np.std(arr)\n",
    "\n",
    "print(\"The standard deviation is\", std)\n"
   ]
  },
  {
   "cell_type": "code",
   "execution_count": 10,
   "metadata": {},
   "outputs": [
    {
     "data": {
      "text/plain": [
       "2.9832867780352594"
      ]
     },
     "execution_count": 10,
     "metadata": {},
     "output_type": "execute_result"
    }
   ],
   "source": [
    "# Compare this to carrying out the calculation using the formula of np.sqrt(np.sum((x - np.mean(x))**2)/len(x))\n",
    "import numpy as np\n",
    "\n",
    "arr = [9, 2, 5, 4, 12, 7, 8, 11, 9, 3, 7, 4, 12, 5, 4, 10, 9 ,6, 9, 4]\n",
    "np.sqrt(np.sum((arr - np.mean(arr))**2)/len(arr))"
   ]
  },
  {
   "cell_type": "code",
   "execution_count": 11,
   "metadata": {},
   "outputs": [
    {
     "data": {
      "text/plain": [
       "3.0044411571316667"
      ]
     },
     "execution_count": 11,
     "metadata": {},
     "output_type": "execute_result"
    }
   ],
   "source": [
    "# The result of 2.9832867780352594 is the same as that reached using the np.std() function and through the manual calculation.\n",
    "\n",
    "# Next, let's try using a sample of 15 observations from the data set of 20 observations.\n",
    "\n",
    "import numpy as np\n",
    "\n",
    "smpl = [9, 2, 5, 4, 12, 7, 8, 11, 9, 3, 7, 4, 12, 5, 4]\n",
    "np.sqrt(np.sum((smpl - np.mean(smpl))**2)/len(smpl)-1)"
   ]
  },
  {
   "cell_type": "code",
   "execution_count": 12,
   "metadata": {},
   "outputs": [
    {
     "data": {
      "text/plain": [
       "3.1664912232101114"
      ]
     },
     "execution_count": 12,
     "metadata": {},
     "output_type": "execute_result"
    }
   ],
   "source": [
    "# Using the STDEV.P formula on the same sample of the population gives the following result:\n",
    "\n",
    "smpl = [9, 2, 5, 4, 12, 7, 8, 11, 9, 3, 7, 4, 12, 5, 4]\n",
    "np.sqrt(np.sum((smpl - np.mean(smpl))**2)/len(smpl))"
   ]
  },
  {
   "cell_type": "markdown",
   "metadata": {},
   "source": [
    "#### Results\n",
    "\n",
    "The standard deviation of the full data set (of 20 observations) is 2.9832867780352594.\n",
    "\n",
    "Taking a sample of 15 observations, we ran the STDEV.P and STDEV.S formulas which yielded the following results:\n",
    "\n",
    "- STDEV.S = 3.0044411571316667\n",
    "- STDEV.P = 3.1664912232101114\n",
    "\n",
    "Compared to the standard deviation of 2.9832867780352594.\n",
    "\n",
    "#### Conclusion \n",
    "\n",
    "The evidence above shows that using the STDEV.S calculation gives a better estimate for the standard deviation of a population when performed on a sample than using the STDEV.P calculation. However, if the full sample is provided, using the STDEV.P calculation provides a more accurate result.\n",
    "\n",
    "#### References\n",
    "[1] Standard Deviation - https://en.wikipedia.org/wiki/Standard_deviation\n",
    "\n",
    "[2] Standard Deviation - https://www.mathsisfun.com/data/standard-deviation-formulas.html\n",
    "\n",
    "[3] How To Use Excel STDEV.P Function - https://www.exceltip.com/statistical-formulas/how-to-use-excel-stdev-p-function.html\n",
    "\n",
    "[4] numpy.std() in Python - https://www.geeksforgeeks.org/numpy-std-in-python/\n",
    "\n",
    "[5] Bessel's Correction - https://en.wikipedia.org/wiki/Bessel%27s_correction"
   ]
  },
  {
   "cell_type": "markdown",
   "metadata": {},
   "source": [
    "#### Task 4. Use scikit-learn to apply k-means clustering to Fisher’s famous Iris data set. You will easily obtain a copy of the data set online. Explain in a Markdown cell how your code works and how accurate it might be, and then explain how your model could be used to make predictions of species of iris.\n",
    "\n",
    "The k-means algorithm clusters data by trying to separate samples in groups of equal variance, minimizing a criterion known as the inertia or within-cluster sum-of-squares (see below). This algorithm requires the number of clusters to be specified. It scales well to large number of samples and has been used across a large range of application areas in many different fields [1].\n",
    "\n"
   ]
  },
  {
   "cell_type": "code",
   "execution_count": 22,
   "metadata": {},
   "outputs": [],
   "source": [
    "# Import the libraries required for this task.\n",
    "import pandas as pd\n",
    "import numpy as np\n",
    "import matplotlib.pyplot as plt\n",
    "import sklearn.cluster as skcl\n",
    "import sklearn.datasets as skds\n"
   ]
  },
  {
   "cell_type": "code",
   "execution_count": 25,
   "metadata": {},
   "outputs": [],
   "source": [
    "# Load the Iris data set from sklearn datasets.\n",
    "iris = skds.load_iris()"
   ]
  },
  {
   "cell_type": "code",
   "execution_count": 26,
   "metadata": {},
   "outputs": [],
   "source": [
    "# Define targets and predictors.\n",
    "X = iris.data[:, :2]\n",
    "y = iris.target"
   ]
  },
  {
   "cell_type": "code",
   "execution_count": 76,
   "metadata": {},
   "outputs": [
    {
     "data": {
      "text/plain": [
       "array([0, 0, 0, 0, 0, 0, 0, 0, 0, 0, 0, 0, 0, 0, 0, 0, 0, 0, 0, 0, 0, 0,\n",
       "       0, 0, 0, 0, 0, 0, 0, 0, 0, 0, 0, 0, 0, 0, 0, 0, 0, 0, 0, 0, 0, 0,\n",
       "       0, 0, 0, 0, 0, 0, 1, 1, 1, 2, 1, 2, 1, 2, 1, 2, 2, 2, 2, 2, 2, 1,\n",
       "       2, 2, 2, 2, 2, 2, 2, 2, 1, 1, 1, 1, 2, 2, 2, 2, 2, 2, 2, 2, 1, 2,\n",
       "       2, 2, 2, 2, 2, 2, 2, 2, 2, 2, 2, 2, 1, 2, 1, 1, 1, 1, 2, 1, 1, 1,\n",
       "       1, 1, 1, 2, 2, 1, 1, 1, 1, 2, 1, 2, 1, 2, 1, 1, 2, 2, 1, 1, 1, 1,\n",
       "       1, 2, 2, 1, 1, 1, 2, 1, 1, 1, 2, 1, 1, 1, 2, 1, 1, 2])"
      ]
     },
     "execution_count": 76,
     "metadata": {},
     "output_type": "execute_result"
    }
   ],
   "source": [
    "# Perform kmeans fitting.\n",
    "kmeans = skcl.KMeans(n_clusters=3, random_state=0).fit(X)\n",
    "kmeans.labels_"
   ]
  },
  {
   "cell_type": "code",
   "execution_count": 75,
   "metadata": {},
   "outputs": [
    {
     "data": {
      "text/plain": [
       "array([[5.006     , 3.428     ],\n",
       "       [6.81276596, 3.07446809],\n",
       "       [5.77358491, 2.69245283]])"
      ]
     },
     "execution_count": 75,
     "metadata": {},
     "output_type": "execute_result"
    }
   ],
   "source": [
    "# Identify the center points of the data.\n",
    "kmeans.cluster_centers_"
   ]
  },
  {
   "cell_type": "code",
   "execution_count": 86,
   "metadata": {
    "scrolled": false
   },
   "outputs": [
    {
     "data": {
      "text/plain": [
       "Text(0.5, 1.0, 'Predicted')"
      ]
     },
     "execution_count": 86,
     "metadata": {},
     "output_type": "execute_result"
    },
    {
     "data": {
      "image/png": "[encoded data removed]",
      "text/plain": [
       "<Figure size 1152x576 with 2 Axes>"
      ]
     },
     "metadata": {
      "needs_background": "light"
     },
     "output_type": "display_data"
    }
   ],
   "source": [
    "# Plot the identified clusters and compare with the answers\n",
    "fig, axes = plt.subplots(1, 2, figsize=(16,8))\n",
    "\n",
    "axes[0].scatter(X[:, 0], X[:, 1], c=y, cmap='gist_rainbow', s=100)\n",
    "\n",
    "axes[1].scatter(X[:, 0], X[:, 1], c=kmeans.labels_, cmap='jet', s=100)\n",
    "\n",
    "axes[0].set_xlabel('Sepal length', fontsize=18)\n",
    "axes[0].set_ylabel('Sepal width', fontsize=18)\n",
    "axes[0].tick_params(direction='in', length=10, width=5, colors='k', labelsize=20)\n",
    "axes[0].set_title('Actual', fontsize=18)\n",
    "axes[1].set_xlabel('Sepal length', fontsize=18)\n",
    "axes[1].set_ylabel('Sepal width', fontsize=18)\n",
    "axes[1].tick_params(direction='in', length=10, width=5, colors='k', labelsize=20)\n",
    "axes[1].set_title('Predicted', fontsize=18)\n",
    "\n"
   ]
  },
  {
   "cell_type": "markdown",
   "metadata": {},
   "source": [
    "#### Conclusion\n",
    "In the figure \"Actual\", the Iris setosa is represented by the red. As the Iris setosa is easily identified from the other two species by its sepal length and sepal width attributes, the k-means algoritum (represented in the figure titled \"Predicted\") was 100% accurate in its prediction.\n",
    "\n",
    "Howevever, as there is more overlap between the iris versicolor and \n",
    "\n",
    "\n",
    "#### References\n",
    "[1] SciKit Learn: 2.3 Clustering - https://scikit-learn.org/stable/modules/clustering.html#k-means\n",
    "\n",
    "[2] Simple K-means clustering on the Iris dataset - https://www.kaggle.com/tonzowonzo/simple-k-means-clustering-on-the-iris-dataset\n",
    "\n",
    "[3] Predicting Iris Flower Species with K-Means Clustering in Python - https://medium.com/@belen.sanchez27/predicting-iris-flower-species-with-k-means-clustering-in-python-f6e46806aaee\n",
    "\n",
    "[4] McLoughlin, I 2020, K-Means Clustering, lecture notes, Machine Learning, GMIT, delivered 22/11/2020"
   ]
  },
  {
   "cell_type": "code",
   "execution_count": null,
   "metadata": {},
   "outputs": [],
   "source": []
  }
 ],
 "metadata": {
  "kernelspec": {
   "display_name": "Python 3",
   "language": "python",
   "name": "python3"
  },
  "language_info": {
   "codemirror_mode": {
    "name": "ipython",
    "version": 3
   },
   "file_extension": ".py",
   "mimetype": "text/x-python",
   "name": "python",
   "nbconvert_exporter": "python",
   "pygments_lexer": "ipython3",
   "version": "3.8.3"
  }
 },
 "nbformat": 4,
 "nbformat_minor": 4
}
